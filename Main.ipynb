{
 "cells": [
  {
   "cell_type": "code",
   "execution_count": 1,
   "metadata": {},
   "outputs": [
    {
     "name": "stderr",
     "output_type": "stream",
     "text": [
      "c:\\Users\\ual-laptop\\AppData\\Local\\Programs\\Python\\Python311\\Lib\\site-packages\\tqdm\\auto.py:21: TqdmWarning: IProgress not found. Please update jupyter and ipywidgets. See https://ipywidgets.readthedocs.io/en/stable/user_install.html\n",
      "  from .autonotebook import tqdm as notebook_tqdm\n"
     ]
    }
   ],
   "source": [
    "from scripts.Classifier import Classifier"
   ]
  },
  {
   "cell_type": "code",
   "execution_count": 2,
   "metadata": {},
   "outputs": [
    {
     "name": "stderr",
     "output_type": "stream",
     "text": [
      "Map: 100%|██████████| 241/241 [00:00<00:00, 1887.21 examples/s]\n",
      "Map: 100%|██████████| 241/241 [00:00<00:00, 5155.05 examples/s]\n",
      "Map: 100%|██████████| 241/241 [00:00<00:00, 3714.01 examples/s]\n",
      "Map: 100%|██████████| 241/241 [00:03<00:00, 74.91 examples/s]\n",
      "Map: 100%|██████████| 241/241 [00:00<00:00, 5236.80 examples/s]\n",
      "Map: 100%|██████████| 241/241 [00:00<00:00, 4252.98 examples/s]\n",
      "Map: 100%|██████████| 241/241 [00:03<00:00, 70.49 examples/s]\n"
     ]
    },
    {
     "name": "stdout",
     "output_type": "stream",
     "text": [
      "8/8 [==============================] - 2s 13ms/step\n"
     ]
    }
   ],
   "source": [
    "classifier=Classifier()\n",
    "\"\"\"my model is already trained following these steps to make predictions,\n",
    " just call the predict function with the test data.\n",
    "splits data into train, test, development in 70:15:15 ratio\n",
    "fitting model with the spiltted data\n",
    "takes the data makes predicions and saves them into a data/predictions.csv file\"\"\"\n",
    "classifier.save_to_file(\"data/test.csv\")\n",
    "#the output will be saved as a predictions.csv in the data folder where you can download it"
   ]
  }
 ],
 "metadata": {
  "kernelspec": {
   "display_name": "Python 3",
   "language": "python",
   "name": "python3"
  },
  "language_info": {
   "codemirror_mode": {
    "name": "ipython",
    "version": 3
   },
   "file_extension": ".py",
   "mimetype": "text/x-python",
   "name": "python",
   "nbconvert_exporter": "python",
   "pygments_lexer": "ipython3",
   "version": "3.11.5"
  }
 },
 "nbformat": 4,
 "nbformat_minor": 2
}
