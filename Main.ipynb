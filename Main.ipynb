{
 "cells": [
  {
   "cell_type": "code",
   "execution_count": 3,
   "metadata": {},
   "outputs": [],
   "source": [
    "from scripts.Classifier import Classifier"
   ]
  },
  {
   "cell_type": "code",
   "execution_count": 4,
   "metadata": {},
   "outputs": [
    {
     "name": "stderr",
     "output_type": "stream",
     "text": [
      "Downloading data files: 100%|██████████| 2/2 [00:00<00:00, 359.42it/s]\n",
      "Extracting data files: 100%|██████████| 2/2 [00:00<00:00, 32.68it/s]\n",
      "Generating train split: 1120 examples [00:00, 21952.42 examples/s]\n",
      "Generating validation split: 240 examples [00:00, 25827.66 examples/s]\n",
      "Map: 100%|██████████| 1120/1120 [00:00<00:00, 2604.93 examples/s]\n",
      "Map: 100%|██████████| 240/240 [00:00<00:00, 2027.70 examples/s]\n"
     ]
    },
    {
     "name": "stdout",
     "output_type": "stream",
     "text": [
      "Epoch 1/10\n",
      "69/70 [============================>.] - ETA: 0s - loss: 0.8649 - f1_score: 0.3956INFO:tensorflow:Assets written to: model\\assets\n"
     ]
    },
    {
     "name": "stderr",
     "output_type": "stream",
     "text": [
      "INFO:tensorflow:Assets written to: model\\assets\n"
     ]
    },
    {
     "name": "stdout",
     "output_type": "stream",
     "text": [
      "70/70 [==============================] - 19s 195ms/step - loss: 0.8643 - f1_score: 0.3964 - val_loss: 0.6941 - val_f1_score: 0.4678\n",
      "Epoch 2/10\n",
      "70/70 [==============================] - 2s 31ms/step - loss: 0.8630 - f1_score: 0.4678 - val_loss: 0.6902 - val_f1_score: 0.1348\n",
      "Epoch 3/10\n",
      "70/70 [==============================] - 2s 31ms/step - loss: 0.8550 - f1_score: 0.5721 - val_loss: 0.6876 - val_f1_score: 0.4224\n",
      "Epoch 4/10\n",
      "70/70 [==============================] - 3s 43ms/step - loss: 0.7432 - f1_score: 0.6445 - val_loss: 0.6878 - val_f1_score: 0.3886\n",
      "Epoch 5/10\n",
      "70/70 [==============================] - 4s 50ms/step - loss: 0.3449 - f1_score: 0.8851 - val_loss: 0.8048 - val_f1_score: 0.3544\n"
     ]
    },
    {
     "name": "stderr",
     "output_type": "stream",
     "text": [
      "Map: 100%|██████████| 241/241 [00:00<00:00, 2715.63 examples/s]\n"
     ]
    },
    {
     "name": "stdout",
     "output_type": "stream",
     "text": [
      "16/16 [==============================] - 1s 5ms/step\n",
      "[[[ 66 154]\n",
      "  [  7  14]]\n",
      "\n",
      " [[ 14   7]\n",
      "  [154  66]]]\n",
      "None\n"
     ]
    },
    {
     "name": "stderr",
     "output_type": "stream",
     "text": [
      "Map: 100%|██████████| 899/899 [00:00<00:00, 3229.09 examples/s]\n"
     ]
    },
    {
     "name": "stdout",
     "output_type": "stream",
     "text": [
      "57/57 [==============================] - 1s 6ms/step\n"
     ]
    }
   ],
   "source": [
    "classifier=Classifier()\n",
    "#splits data into train, test, development in 70:15:15 ratio\n",
    "classifier.train_test_split(preprocessed_data_path=\"data/train-dev.csv\")\n",
    "#fitting model with the spiltted data\n",
    "classifier.fit(train_path=\"data/train.csv\", devlopment_path=\"data/dev.csv\")\n",
    "print(classifier.confusion_matrix(path=\"data/test.csv\"))\n",
    "#takes the data makes predicions and saves them into a data/predictions.csv file\n",
    "classifier.save_to_file(\"data/predict_scores.csv\")"
   ]
  }
 ],
 "metadata": {
  "kernelspec": {
   "display_name": "Python 3",
   "language": "python",
   "name": "python3"
  },
  "language_info": {
   "codemirror_mode": {
    "name": "ipython",
    "version": 3
   },
   "file_extension": ".py",
   "mimetype": "text/x-python",
   "name": "python",
   "nbconvert_exporter": "python",
   "pygments_lexer": "ipython3",
   "version": "3.11.5"
  }
 },
 "nbformat": 4,
 "nbformat_minor": 2
}
