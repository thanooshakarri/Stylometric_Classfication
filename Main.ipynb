{
 "cells": [
  {
   "cell_type": "code",
   "execution_count": 1,
   "metadata": {},
   "outputs": [
    {
     "name": "stderr",
     "output_type": "stream",
     "text": [
      "c:\\Users\\ual-laptop\\AppData\\Local\\Programs\\Python\\Python311\\Lib\\site-packages\\tqdm\\auto.py:21: TqdmWarning: IProgress not found. Please update jupyter and ipywidgets. See https://ipywidgets.readthedocs.io/en/stable/user_install.html\n",
      "  from .autonotebook import tqdm as notebook_tqdm\n"
     ]
    }
   ],
   "source": [
    "from scripts.Classifier import Classifier"
   ]
  },
  {
   "cell_type": "code",
   "execution_count": 2,
   "metadata": {},
   "outputs": [
    {
     "name": "stderr",
     "output_type": "stream",
     "text": [
      "Downloading data files: 100%|██████████| 2/2 [00:00<00:00, 340.16it/s]\n",
      "Extracting data files: 100%|██████████| 2/2 [00:00<00:00, 29.78it/s]\n",
      "Generating train split: 1120 examples [00:00, 9093.31 examples/s]\n",
      "Generating validation split: 240 examples [00:00, 8811.10 examples/s]\n",
      "Map: 100%|██████████| 1120/1120 [00:00<00:00, 2021.85 examples/s]\n",
      "Map: 100%|██████████| 240/240 [00:00<00:00, 1948.52 examples/s]\n"
     ]
    },
    {
     "name": "stdout",
     "output_type": "stream",
     "text": [
      "Epoch 1/10\n",
      "69/70 [============================>.] - ETA: 0s - loss: 0.8665 - f1_score: 0.3622INFO:tensorflow:Assets written to: model\\assets\n"
     ]
    },
    {
     "name": "stderr",
     "output_type": "stream",
     "text": [
      "INFO:tensorflow:Assets written to: model\\assets\n"
     ]
    },
    {
     "name": "stdout",
     "output_type": "stream",
     "text": [
      "70/70 [==============================] - 20s 214ms/step - loss: 0.8651 - f1_score: 0.3586 - val_loss: 0.6928 - val_f1_score: 0.3312\n",
      "Epoch 2/10\n",
      "70/70 [==============================] - 3s 36ms/step - loss: 0.8620 - f1_score: 0.3944 - val_loss: 0.6911 - val_f1_score: 0.2835\n",
      "Epoch 3/10\n",
      "69/70 [============================>.] - ETA: 0s - loss: 0.8536 - f1_score: 0.5652INFO:tensorflow:Assets written to: model\\assets\n"
     ]
    },
    {
     "name": "stderr",
     "output_type": "stream",
     "text": [
      "INFO:tensorflow:Assets written to: model\\assets\n"
     ]
    },
    {
     "name": "stdout",
     "output_type": "stream",
     "text": [
      "70/70 [==============================] - 14s 203ms/step - loss: 0.8524 - f1_score: 0.5616 - val_loss: 0.7011 - val_f1_score: 0.4296\n",
      "Epoch 4/10\n",
      "70/70 [==============================] - 3s 40ms/step - loss: 0.7638 - f1_score: 0.7270 - val_loss: 0.6527 - val_f1_score: 0.3836\n",
      "Epoch 5/10\n",
      "70/70 [==============================] - 3s 43ms/step - loss: 0.3780 - f1_score: 0.8729 - val_loss: 0.8029 - val_f1_score: 0.3444\n",
      "Epoch 6/10\n",
      "70/70 [==============================] - 3s 44ms/step - loss: 0.0950 - f1_score: 0.9824 - val_loss: 0.9442 - val_f1_score: 0.3736\n"
     ]
    },
    {
     "name": "stderr",
     "output_type": "stream",
     "text": [
      "Map: 100%|██████████| 241/241 [00:00<00:00, 2799.45 examples/s]\n"
     ]
    },
    {
     "name": "stdout",
     "output_type": "stream",
     "text": [
      "16/16 [==============================] - 1s 5ms/step\n",
      "[[[ 63 130]\n",
      "  [ 10  38]]\n",
      "\n",
      " [[ 38  10]\n",
      "  [130  63]]]\n",
      "None\n"
     ]
    },
    {
     "name": "stderr",
     "output_type": "stream",
     "text": [
      "Map: 100%|██████████| 899/899 [00:00<00:00, 3383.06 examples/s]\n"
     ]
    },
    {
     "name": "stdout",
     "output_type": "stream",
     "text": [
      "57/57 [==============================] - 1s 6ms/step\n"
     ]
    }
   ],
   "source": [
    "classifier=Classifier()\n",
    "#splits data into train, test, development in 70:15:15 ratio\n",
    "classifier.train_test_split(preprocessed_data_path=\"data/train-dev.csv\")\n",
    "#fitting model with the spiltted data\n",
    "classifier.fit(train_path=\"data/train.csv\", devlopment_path=\"data/dev.csv\")\n",
    "print(classifier.confusion_matrix(path=\"data/test.csv\"))\n",
    "#takes the data makes predicions and saves them into a data/predictions.csv file\n",
    "classifier.save_to_file(\"data/predict_scores.csv\")"
   ]
  }
 ],
 "metadata": {
  "kernelspec": {
   "display_name": "Python 3",
   "language": "python",
   "name": "python3"
  },
  "language_info": {
   "codemirror_mode": {
    "name": "ipython",
    "version": 3
   },
   "file_extension": ".py",
   "mimetype": "text/x-python",
   "name": "python",
   "nbconvert_exporter": "python",
   "pygments_lexer": "ipython3",
   "version": "3.11.5"
  }
 },
 "nbformat": 4,
 "nbformat_minor": 2
}
